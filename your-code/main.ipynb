{
 "cells": [
  {
   "cell_type": "code",
   "execution_count": 1,
   "metadata": {},
   "outputs": [],
   "source": [
    "import random\n",
    "import seaborn as sns"
   ]
  },
  {
   "cell_type": "markdown",
   "metadata": {},
   "source": [
    "# Probability"
   ]
  },
  {
   "cell_type": "markdown",
   "metadata": {},
   "source": [
    "## Challenge 1\n",
    "There is a box with 10 white balls, 12 red balls and 8 black balls. Calculate the probability of:\n",
    "\n",
    "    A) Taking a white ball out.\n",
    "    B) Taking a white ball on first extraction and a black ball out on second extraction without replacing the first one.\n",
    "    C) Taking a white ball on first extraction and a black ball out on second extraction replacing the first one.\n",
    "    D) Taking 3 balls and them being all different colours."
   ]
  },
  {
   "cell_type": "code",
   "execution_count": 2,
   "metadata": {},
   "outputs": [
    {
     "name": "stdout",
     "output_type": "stream",
     "text": [
      "A)33.0%\n",
      "B)9.1%\n",
      "C)8.8%\n",
      "D)23.65%\n"
     ]
    }
   ],
   "source": [
    "# A) Taking a white ball out.\n",
    "a = round(10/(10+12+8),2)\n",
    "print(f\"A){a*100}%\")\n",
    "\n",
    "# B) Taking a white ball on first extraction and a black ball out on second extraction without replacing the first one.\n",
    "b = round(a*(8/(9+12+8))*100,2)\n",
    "print(f\"B){b}%\")\n",
    "\n",
    "# C) Taking a white ball on first extraction and a black ball out on second extraction replacing the first one.\n",
    "c = round(a*(8/(10+12+8))*100,2)\n",
    "print(f\"C){c}%\")\n",
    "\n",
    "# D) Taking 3 balls and them being all different colours.\n",
    "posibilities = [\"wrb\",\"wbr\",\"bwr\",\"brw\",\"rwb\",\"rbw\"]\n",
    "# All of them have the same probability; so we check the probaility of one of them and we multiply it by 6 (number of options)\n",
    "d = round(((10/(10+12+8))*(8/(9+12+8))*(12/(9+12+7)))*6*100,2)\n",
    "print(f\"D){d}%\")"
   ]
  },
  {
   "cell_type": "markdown",
   "metadata": {},
   "source": [
    "## Challenge 2\n",
    "\n",
    "You want to go on picnic on Saturday. You hate rain, and would know to plan your weekend. To help you make a decision, you gather the following data about rainy days:\n",
    "\n",
    "* 40% of all days are cloudy.\n",
    "* About 50% of cloudy days are rainy. \n",
    "* About 20% of non-cloudy days are rainy.\n",
    "\n",
    "What is the chance of rain during next Saturday?"
   ]
  },
  {
   "cell_type": "code",
   "execution_count": 3,
   "metadata": {},
   "outputs": [
    {
     "name": "stdout",
     "output_type": "stream",
     "text": [
      "The chance of rain during next Saturday is:\n",
      "32.0 %\n"
     ]
    }
   ],
   "source": [
    "print(\"The chance of rain during next Saturday is:\")\n",
    "print(round(((0.4*0.5)+(0.6*0.2))*100,2),\"%\")"
   ]
  },
  {
   "cell_type": "markdown",
   "metadata": {},
   "source": [
    "## Challenge 3\n",
    "\n",
    "A and B are events of a probability such that $P(A) = 0.3$, $P(B) = 0.6$ and $P(A \\cap B) = 0.1$\n",
    "\n",
    "Which of the following statements are true?  \n",
    "**HINT: draw a big Venn Diagram by your side**  \n",
    "\n",
    "\n",
    "* $P(\\overline{A}) = 0.7$\n",
    "\n",
    "'True'.\n",
    "\n",
    "* $P(A \\cup B) = 0.6$\n",
    "\n",
    "$False$ The correct answer is $P(A \\cup B) = 0.8$\n",
    "\n",
    "* $P(A \\cap \\overline{B}) = 0.2$\n",
    "\n",
    "'True'. Even though the exact answer is $= 0.27$\n",
    "\n",
    "* $P(A \\cup \\overline{A}) = 1$ \n",
    "\n",
    "'True'.\n",
    "\n",
    "* $P(A \\cap (B \\cup \\overline{B})) = 0.4$\n",
    "\n",
    "$False$ The correct answer is: $P(A \\cap (B \\cup \\overline{B})) = 0.3$\n",
    "\n",
    "* $P(\\overline{A} \\cap \\overline{B}) = 0.3$\n",
    "\n",
    "$False$ The correct answer is $P(\\overline{A} \\cap \\overline{B}) = 0.63$\n",
    "\n",
    "* $P(\\overline{A \\cap B}) = 0.9$\n",
    "\n",
    "'True'."
   ]
  },
  {
   "cell_type": "markdown",
   "metadata": {},
   "source": [
    "## Challenge 4\n",
    "\n",
    " * If someone flies to China, the probability of getting Covid is 1%  \n",
    " * If someone flies to Italy, the probability of getting Covid is 20%  \n",
    "\n",
    "I roll 1 dice with numbers 1, 2, 3, 4, 5, 6:  \n",
    " * If 1: I fly to Italy\n",
    " * If not 1: I fly to China\n",
    "\n",
    "During my trip, I got Covid. What is the probability that I flew to China?"
   ]
  },
  {
   "cell_type": "markdown",
   "metadata": {},
   "source": [
    "$$P(A|B)=\\frac{P(A \\cap B)}{P(B)}$$"
   ]
  },
  {
   "cell_type": "markdown",
   "metadata": {},
   "source": [
    "$$P(A|B)=\\frac{P(prob_virus_china)}{P(prob_virus_china)}=If_Covid_prob_in_china$$"
   ]
  },
  {
   "cell_type": "markdown",
   "metadata": {},
   "source": [
    "$$P(A|B)=\\frac{5/6*0.01}{(5/6*0.01)+(1/6*0.20)}=\\frac{1}{5}= 0.2 $$"
   ]
  },
  {
   "cell_type": "markdown",
   "metadata": {},
   "source": [
    "## BONUS\n",
    "\n",
    "You roll 2 dice. What is the probability that the sum of the numbers is 7? And 8? And 9? Then simulate 10000 times and draw a countplot."
   ]
  },
  {
   "cell_type": "markdown",
   "metadata": {},
   "source": [
    "your explanation here"
   ]
  },
  {
   "cell_type": "markdown",
   "metadata": {},
   "source": [
    "- The probability that the sum of the numbers is 7 is: 16.67%\n",
    "- The probability that the sum of the numbers is 8 is: 13.89%\n",
    "- The probability that the sum of the numbers is 9 is: 11.11%"
   ]
  },
  {
   "cell_type": "code",
   "execution_count": 4,
   "metadata": {},
   "outputs": [],
   "source": [
    "def dos_dados_suma_10000():\n",
    "    serie_aleatoria = []\n",
    "    for i in range(10000):\n",
    "        primer_dado = random.randint(1,6)\n",
    "        segundo_dado = random.randint(1,6)\n",
    "        serie_aleatoria.append(primer_dado+segundo_dado)\n",
    "    return serie_aleatoria"
   ]
  },
  {
   "cell_type": "code",
   "execution_count": 5,
   "metadata": {},
   "outputs": [
    {
     "name": "stdout",
     "output_type": "stream",
     "text": [
      "AxesSubplot(0.125,0.125;0.775x0.755)\n"
     ]
    },
    {
     "data": {
      "image/png": "[encoded data removed]",
      "text/plain": [
       "<Figure size 432x288 with 1 Axes>"
      ]
     },
     "metadata": {
      "needs_background": "light"
     },
     "output_type": "display_data"
    }
   ],
   "source": [
    "suceso = dos_dados_suma_10000()\n",
    "print(sns.histplot(suceso))"
   ]
  },
  {
   "cell_type": "code",
   "execution_count": 6,
   "metadata": {},
   "outputs": [
    {
     "name": "stdout",
     "output_type": "stream",
     "text": [
      "[7, 4, 7, 5, 8, 10, 5, 11, 8, 3, 6, 9, 8, 6, 6, 9, 3, 7, 8, 5, 6, 10, 10, 4, 12, 7, 8, 7, 3, 7, 3, 6, 4, 9, 5, 8, 5, 7, 10, 6, 11, 11, 7, 7, 11, 10, 7, 6, 5, 7, 5, 6, 11, 9, 5, 7, 8, 7, 8, 5, 12, 9, 6, 10, 6, 2, 7, 11, 8, 4, 3, 12, 9, 4, 11, 8, 8, 11, 10, 9, 2, 5, 7, 7, 6, 2, 10, 3, 8, 9, 9, 5, 8, 9, 10, 9, 3, 10, 11, 9, 5, 12, 6, 9, 11, 9, 10, 5, 5, 2, 9, 7, 6, 6, 8, 6, 5, 8, 5, 3, 9, 5, 6, 8, 8, 4, 9, 6, 7, 7, 9, 4, 8, 11, 5, 4, 8, 3, 6, 3, 7, 6, 2, 8, 8, 6, 4, 9, 4, 4, 8, 9, 9, 8, 10, 9, 7, 5, 5, 3, 5, 9, 6, 7, 6, 6, 2, 8, 5, 8, 2, 5, 7, 7, 4, 11, 9, 5, 6, 8, 11, 2, 10, 4, 4, 8, 5, 6, 7, 8, 9, 6, 5, 7, 9, 7, 7, 5, 4, 6, 9, 10, 8, 5, 4, 8, 6, 9, 8, 8, 3, 8, 12, 10, 11, 5, 6, 12, 3, 7, 6, 8, 11, 11, 5, 6, 6, 6, 8, 9, 10, 12, 7, 6, 9, 8, 7, 5, 7, 6, 5, 8, 11, 12, 7, 9, 10, 7, 8, 9, 11, 6, 9, 6, 3, 10, 8, 4, 9, 3, 10, 3, 6, 4, 10, 5, 4, 7, 5, 7, 8, 8, 8, 8, 4, 9, 8, 8, 7, 11, 5, 4, 7, 2, 6, 7, 4, 9, 10, 7, 10, 9, 6, 2, 12, 10, 9, 7, 7, 8, 11, 5, 4, 4, 4, 9, 10, 6, 11, 8, 2, 5, 6, 7, 8, 2, 5, 10, 5, 4, 6, 7, 7, 5, 7, 9, 8, 4, 8, 7, 11, 8, 6, 5, 6, 2, 6, 10, 6, 9, 5, 11, 5, 10, 4, 9, 9, 8, 8, 11, 12, 8, 10, 7, 5, 6, 10, 5, 7, 9, 8, 8, 8, 8, 7, 8, 5, 5, 9, 8, 12, 10, 7, 5, 11, 8, 6, 11, 4, 8, 6, 7, 9, 6, 10, 9, 5, 10, 7, 7, 6, 7, 6, 11, 6, 8, 7, 5, 8, 8, 3, 10, 7, 4, 7, 4, 8, 10, 5, 8, 5, 7, 3, 7, 10, 4, 10, 8, 9, 8, 6, 7, 7, 3, 7, 3, 8, 10, 12, 12, 9, 3, 5, 7, 10, 10, 5, 7, 2, 8, 2, 3, 7, 4, 6, 8, 4, 4, 7, 10, 7, 6, 10, 4, 6, 12, 10, 9, 8, 7, 11, 11, 10, 11, 5, 8, 9, 6, 6, 5, 9, 2, 6, 6, 7, 9, 5, 5, 4, 2, 5, 6, 7, 8, 5, 6, 6, 12, 10, 3, 12, 10, 6, 10, 8, 8, 5, 7, 2, 8, 10, 6, 8, 8, 7, 8, 5, 9, 7, 12, 10, 10, 7, 8, 8, 3, 9, 6, 10, 4, 7, 7, 3, 7, 10, 7, 6, 3, 10, 11, 4, 6, 7, 6, 7, 10, 8, 5, 9, 7, 9, 7, 6, 5, 12, 9, 8, 11, 4, 6, 8, 6, 9, 4, 5, 8, 11, 8, 6, 10, 4, 11, 12, 7, 7, 8, 3, 9, 9, 7, 5, 6, 6, 6, 8, 7, 9, 11, 10, 7, 4, 8, 6, 6, 6, 10, 8, 6, 10, 12, 6, 8, 8, 4, 9, 9, 5, 5, 8, 6, 10, 6, 8, 8, 7, 10, 7, 5, 4, 5, 6, 5, 6, 6, 10, 7, 5, 4, 11, 4, 5, 5, 6, 6, 11, 9, 7, 2, 7, 7, 9, 12, 11, 9, 10, 7, 5, 5, 11, 5, 7, 8, 7, 9, 12, 9, 7, 9, 7, 5, 9, 3, 5, 9, 7, 8, 10, 9, 6, 6, 10, 12, 9, 10, 9, 10, 6, 10, 4, 6, 5, 10, 9, 8, 5, 4, 7, 7, 5, 10, 3, 4, 8, 3, 2, 6, 9, 7, 8, 11, 7, 8, 6, 5, 5, 9, 8, 5, 9, 4, 9, 8, 7, 11, 9, 9, 7, 7, 7, 8, 5, 6, 5, 8, 6, 6, 2, 6, 11, 10, 3, 7, 6, 10, 6, 12, 8, 7, 8, 4, 11, 7, 7, 7, 8, 9, 7, 4, 8, 10, 6, 8, 4, 9, 6, 4, 6, 10, 7, 5, 5, 5, 8, 10, 4, 6, 8, 5, 10, 5, 8, 4, 8, 9, 7, 4, 6, 7, 6, 5, 2, 10, 8, 5, 8, 4, 6, 8, 7, 11, 6, 10, 5, 7, 6, 2, 4, 2, 8, 6, 7, 11, 11, 8, 10, 4, 11, 4, 5, 9, 5, 6, 9, 3, 11, 11, 9, 9, 7, 9, 5, 6, 12, 11, 7, 10, 10, 5, 4, 9, 7, 6, 8, 6, 8, 6, 4, 7, 4, 2, 6, 6, 5, 7, 5, 7, 10, 2, 8, 10, 11, 7, 8, 6, 7, 7, 7, 5, 10, 2, 8, 4, 7, 8, 8, 10, 6, 9, 2, 8, 7, 10, 6, 8, 8, 6, 12, 6, 4, 4, 5, 8, 7, 7, 3, 3, 6, 6, 7, 10, 4, 12, 5, 8, 7, 6, 5, 11, 6, 9, 5, 8, 7, 5, 9, 9, 7, 10, 8, 4, 5, 6, 5, 9, 12, 7, 3, 4, 10, 4, 5, 7, 7, 12, 7, 8, 4, 8, 5, 4, 9, 7, 6, 6, 6, 8, 10, 2, 9, 10, 9, 9, 8, 9, 4, 12, 10, 7, 5, 8, 7, 10, 8, 5, 9, 7, 6, 7, 2, 6, 9, 11, 2, 3, 8, 8, 8, 6, 7, 7, 5, 3, 7, 3, 6, 7, 5, 10, 6, 7, 10, 9, 6, 4, 6, 8, 6, 3, 8, 5, 9, 11, 9, 6, 7, 7, 6, 5, 5, 10, 5, 7, 11, 9, 2, 8, 8, 5, 4, 6, 3, 9, 4, 7, 5, 7, 7, 6, 6, 8, 8, 3, 11, 10, 5, 5, 5, 5, 9, 7, 7, 12, 6, 3, 7, 9, 6, 4, 9, 9, 7, 4, 9, 11, 8, 5, 9, 3, 6, 8, 5, 12, 6, 5, 8, 9, 10, 9, 9, 10, 9, 6, 6, 12, 4, 4, 10, 7, 4, 5, 10, 8, 9, 10, 3, 7, 7, 10, 6, 7, 9, 8, 4, 7, 9, 10, 5, 3, 7, 3, 3, 8, 6, 5, 7, 9, 8, 4, 6, 11, 8, 6, 8, 10, 3, 9, 7, 9, 6, 4, 5, 7, 11, 11, 11, 6, 11, 11, 8, 7, 6, 5, 9, 6, 6, 12, 3, 8, 6, 12, 8, 9, 8, 7, 10, 8, 7, 3, 6, 8, 7, 6, 6, 8, 5, 5, 9, 11, 3, 7, 3, 11, 5, 3, 8, 5, 6, 10, 8, 2, 5, 6, 7, 9, 7, 9, 5, 12, 5, 10, 6, 10, 4, 9, 7, 7, 7, 7, 9, 6, 10, 9, 7, 4, 3, 6, 11, 4, 9, 9, 8, 4, 7, 9, 11, 5, 3, 10, 8, 5, 7, 4, 9, 6, 8, 6, 8, 12, 8, 5, 8, 11, 9, 4, 12, 5, 6, 2, 7, 7, 5, 8, 5, 7, 2, 4, 11, 10, 7, 9, 7, 3, 6, 8, 6, 8, 5, 7, 10, 10, 10, 7, 7, 10, 8, 11, 11, 3, 9, 9, 4, 8, 10, 6, 6, 9, 7, 8, 6, 4, 5, 4, 6, 5, 6, 8, 7, 3, 8, 6, 11, 4, 6, 6, 6, 6, 3, 6, 6, 9, 11, 7, 5, 6, 2, 9, 6, 6, 7, 4, 5, 9, 8, 9, 6, 8, 9, 9, 7, 2, 12, 9, 6, 5, 2, 3, 2, 6, 8, 8, 4, 9, 7, 8, 4, 8, 10, 9, 8, 6, 9, 7, 7, 9, 9, 5, 7, 6, 12, 11, 10, 5, 2, 2, 3, 6, 8, 6, 5, 9, 7, 5, 6, 5, 9, 7, 5, 5, 9, 8, 9, 7, 9, 5, 9, 9, 8, 7, 6, 9, 8, 7, 8, 7, 11, 6, 8, 9, 9, 12, 7, 11, 9, 7, 6, 10, 6, 8, 4, 9, 9, 5, 3, 12, 8, 3, 3, 6, 7, 7, 7, 7, 7, 9, 5, 8, 6, 8, 3, 7, 6, 11, 7, 7, 9, 10, 7, 4, 9, 4, 3, 7, 5, 4, 5, 12, 10, 4, 8, 3, 8, 9, 4, 4, 6, 5, 7, 5, 11, 3, 5, 6, 7, 5, 4, 6, 10, 7, 3, 5, 3, 10, 4, 4, 4, 8, 5, 8, 7, 11, 5, 3, 6, 8, 7, 8, 7, 3, 2, 9, 8, 10, 9, 10, 6, 9, 8, 2, 7, 9, 6, 6, 8, 7, 2, 7, 7, 3, 8, 7, 8, 7, 8, 4, 5, 9, 5, 7, 9, 11, 5, 10, 4, 10, 4, 8, 5, 7, 9, 7, 6, 7, 8, 8, 7, 8, 7, 6, 4, 7, 7, 10, 9, 9, 5, 10, 5, 5, 3, 7, 11, 7, 5, 8, 9, 5, 5, 5, 5, 4, 5, 5, 6, 4, 2, 7, 7, 8, 6, 9, 8, 8, 7, 10, 9, 10, 7, 10, 7, 8, 5, 9, 9, 9, 7, 6, 5, 10, 4, 10, 7, 6, 9, 4, 7, 8, 6, 7, 7, 5, 3, 8, 7, 8, 8, 12, 11, 8, 5, 4, 6, 7, 7, 4, 4, 5, 5, 12, 7, 9, 9, 6, 6, 7, 10, 11, 4, 11, 6, 3, 8, 4, 6, 11, 4, 11, 6, 8, 7, 8, 6, 6, 6, 5, 11, 11, 11, 5, 7, 4, 10, 11, 10, 5, 5, 5, 4, 6, 8, 8, 3, 10, 7, 8, 7, 7, 5, 9, 5, 9, 8, 4, 7, 6, 7, 9, 8, 11, 8, 8, 4, 4, 4, 2, 7, 8, 10, 4, 7, 3, 8, 10, 6, 4, 4, 5, 6, 12, 2, 6, 10, 4, 8, 6, 9, 3, 6, 11, 6, 8, 9, 5, 7, 7, 5, 11, 11, 8, 4, 5, 7, 7, 3, 9, 5, 10, 4, 7, 3, 10, 8, 8, 6, 8, 11, 7, 8, 3, 6, 6, 4, 6, 3, 5, 6, 6, 9, 11, 12, 7, 3, 8, 10, 6, 8, 2, 10, 8, 10, 8, 7, 9, 3, 7, 7, 11, 10, 4, 8, 7, 6, 8, 11, 9, 3, 8, 6, 6, 10, 5, 5, 6, 11, 10, 11, 7, 4, 6, 10, 9, 6, 4, 10, 8, 6, 9, 9, 9, 9, 11, 4, 6, 9, 3, 12, 7, 11, 7, 9, 5, 7, 7, 5, 6, 2, 2, 8, 6, 5, 11, 9, 6, 8, 7, 8, 8, 9, 7, 8, 8, 9, 10, 6, 4, 10, 6, 6, 10, 4, 7, 5, 5, 8, 8, 5, 8, 10, 8, 6, 10, 9, 6, 11, 7, 11, 7, 6, 7, 9, 10, 6, 9, 7, 2, 2, 9, 4, 9, 7, 2, 6, 11, 4, 10, 6, 5, 4, 8, 5, 11, 8, 9, 2, 8, 6, 12, 10, 5, 10, 3, 5, 8, 6, 8, 7, 7, 3, 7, 9, 9, 7, 8, 5, 9, 6, 9, 11, 8, 3, 6, 9, 7, 9, 10, 9, 8, 5, 8, 9, 9, 10, 4, 6, 6, 7, 12, 9, 4, 8, 5, 7, 3, 7, 9, 10, 5, 9, 5, 8, 6, 8, 6, 4, 6, 3, 8, 11, 5, 7, 7, 11, 10, 6, 7, 6, 4, 6, 6, 6, 9, 4, 10, 7, 7, 6, 7, 5, 6, 10, 9, 7, 10, 9, 10, 6, 5, 8, 7, 4, 9, 9, 7, 7, 7, 5, 8, 7, 9, 11, 6, 4, 7, 5, 6, 10, 9, 10, 8, 2, 7, 6, 5, 7, 6, 8, 7, 10, 8, 7, 4, 10, 9, 8, 12, 7, 8, 5, 4, 5, 6, 7, 10, 6, 9, 6, 11, 8, 5, 5, 12, 8, 8, 2, 4, 6, 4, 4, 3, 8, 9, 6, 5, 6, 3, 8, 2, 8, 7, 5, 6, 9, 6, 8, 6, 7, 8, 4, 5, 10, 11, 5, 8, 6, 3, 6, 10, 8, 7, 10, 6, 7, 10, 3, 2, 5, 7, 5, 10, 7, 12, 7, 7, 7, 8, 6, 10, 7, 7, 9, 6, 4, 8, 6, 3, 9, 2, 7, 6, 9, 6, 5, 8, 10, 2, 7, 10, 9, 10, 6, 6, 2, 10, 6, 2, 8, 8, 4, 3, 5, 6, 12, 10, 10, 9, 8, 6, 7, 6, 6, 6, 7, 9, 5, 7, 2, 10, 6, 7, 4, 10, 7, 6, 5, 5, 8, 11, 7, 6, 9, 4, 5, 8, 6, 6, 8, 9, 9, 4, 5, 5, 7, 3, 7, 4, 8, 10, 7, 7, 8, 3, 8, 9, 2, 9, 8, 11, 10, 5, 9, 4, 3, 7, 7, 12, 10, 6, 6, 8, 3, 5, 11, 12, 11, 5, 7, 8, 5, 7, 11, 7, 7, 8, 10, 9, 8, 4, 5, 2, 7, 10, 10, 9, 5, 8, 9, 8, 6, 7, 7, 8, 8, 5, 2, 6, 12, 11, 9, 7, 4, 9, 8, 10, 3, 3, 8, 7, 4, 12, 11, 9, 8, 9, 7, 9, 5, 7, 5, 7, 7, 2, 3, 11, 9, 4, 7, 7, 6, 7, 10, 8, 5, 4, 10, 7, 4, 7, 7, 6, 8, 7, 5, 5, 12, 8, 11, 8, 7, 5, 7, 7, 8, 11, 6, 8, 5, 10, 9, 10, 5, 9, 9, 11, 10, 5, 3, 2, 7, 2, 12, 7, 6, 7, 9, 6, 6, 9, 8, 4, 2, 8, 7, 5, 8, 7, 4, 9, 7, 6, 10, 8, 9, 4, 8, 4, 4, 11, 4, 8, 9, 10, 8, 8, 6, 7, 5, 11, 5, 8, 7, 8, 6, 5, 5, 6, 10, 4, 6, 9, 8, 12, 3, 7, 9, 4, 6, 9, 7, 6, 6, 9, 4, 9, 10, 7, 4, 4, 9, 6, 8, 6, 6, 5, 4, 5, 5, 5, 6, 7, 9, 9, 8, 6, 9, 10, 5, 5, 6, 6, 7, 7, 3, 6, 9, 6, 6, 5, 4, 6, 6, 9, 3, 10, 6, 3, 8, 9, 3, 6, 3, 7, 10, 7, 9, 7, 4, 9, 12, 8, 10, 3, 8, 2, 9, 6, 8, 9, 5, 9, 4, 7, 9, 8, 6, 6, 8, 9, 9, 8, 8, 4, 8, 4, 6, 3, 7, 2, 5, 5, 2, 9, 5, 4, 8, 12, 3, 9, 6, 2, 5, 7, 6, 8, 6, 7, 7, 7, 9, 7, 11, 5, 8, 9, 6, 11, 6, 12, 8, 5, 3, 10, 8, 7, 7, 5, 7, 8, 6, 8, 4, 12, 4, 8, 7, 9, 9, 10, 6, 7, 8, 11, 7, 12, 4, 4, 5, 6, 12, 10, 2, 3, 8, 10, 8, 9, 8, 4, 11, 5, 8, 5, 3, 8, 3, 3, 9, 10, 9, 5, 7, 4, 6, 8, 3, 6, 11, 3, 8, 9, 4, 5, 5, 4, 5, 7, 5, 7, 10, 7, 12, 2, 10, 7, 8, 6, 8, 5, 7, 6, 2, 11, 6, 10, 6, 4, 6, 9, 10, 5, 10, 6, 8, 7, 10, 8, 7, 11, 7, 5, 8, 4, 7, 6, 6, 6, 9, 9, 7, 7, 10, 9, 6, 6, 7, 9, 6, 11, 8, 9, 6, 3, 9, 10, 7, 10, 8, 4, 5, 3, 6, 9, 3, 8, 6, 6, 10, 9, 3, 11, 11, 5, 9, 5, 8, 5, 7, 8, 7, 7, 5, 4, 6, 9, 4, 10, 11, 4, 7, 9, 8, 10, 4, 5, 7, 9, 5, 11, 8, 8, 7, 5, 4, 7, 11, 5, 8, 7, 8, 8, 8, 11, 11, 7, 9, 5, 5, 9, 9, 10, 7, 6, 4, 8, 6, 8, 6, 5, 7, 6, 5, 6, 5, 8, 8, 8, 5, 12, 5, 7, 8, 6, 3, 6, 12, 9, 8, 8, 7, 2, 6, 8, 4, 8, 2, 4, 4, 7, 7, 2, 7, 8, 5, 8, 5, 7, 11, 5, 8, 5, 8, 11, 9, 8, 11, 9, 4, 6, 6, 7, 5, 5, 9, 4, 6, 6, 2, 8, 5, 4, 6, 10, 9, 6, 6, 7, 2, 3, 8, 8, 9, 4, 9, 7, 6, 10, 9, 5, 7, 7, 3, 4, 12, 5, 8, 8, 7, 5, 6, 4, 7, 8, 11, 5, 9, 8, 5, 5, 12, 10, 6, 9, 6, 10, 9, 9, 6, 9, 4, 7, 10, 8, 9, 3, 10, 7, 4, 7, 7, 7, 7, 10, 11, 2, 6, 7, 3, 7, 8, 11, 6, 11, 11, 6, 4, 5, 8, 12, 9, 7, 10, 11, 6, 9, 6, 7, 6, 9, 7, 7, 10, 6, 11, 5, 6, 7, 8, 10, 4, 5, 6, 7, 7, 10, 11, 5, 8, 5, 9, 11, 10, 8, 4, 10, 8, 4, 7, 8, 6, 5, 2, 8, 9, 11, 7, 9, 4, 7, 4, 6, 7, 6, 4, 6, 8, 5, 5, 9, 3, 4, 3, 3, 7, 8, 8, 4, 9, 6, 7, 7, 7, 9, 9, 8, 9, 9, 10, 3, 8, 9, 4, 2, 2, 12, 7, 11, 3, 6, 3, 7, 3, 5, 5, 6, 9, 8, 3, 8, 9, 10, 7, 11, 7, 10, 3, 9, 7, 8, 7, 8, 8, 7, 10, 5, 11, 6, 10, 9, 9, 8, 3, 10, 10, 9, 8, 4, 9, 12, 8, 10, 7, 9, 10, 11, 9, 5, 3, 6, 6, 9, 6, 7, 5, 7, 5, 6, 8, 11, 6, 8, 8, 7, 7, 2, 11, 11, 5, 10, 5, 6, 9, 12, 4, 5, 6, 10, 4, 5, 4, 9, 7, 7, 8, 9, 12, 4, 8, 6, 10, 8, 4, 8, 4, 10, 9, 7, 8, 5, 9, 11, 10, 11, 12, 7, 10, 6, 9, 9, 7, 11, 5, 9, 4, 4, 9, 6, 8, 3, 6, 7, 6, 7, 12, 4, 9, 7, 7, 6, 7, 5, 7, 9, 4, 7, 9, 8, 6, 3, 6, 11, 9, 7, 8, 7, 5, 10, 2, 10, 11, 8, 6, 4, 7, 7, 9, 7, 8, 8, 7, 9, 8, 4, 5, 7, 4, 3, 2, 9, 8, 8, 2, 6, 6, 10, 4, 9, 10, 8, 11, 8, 7, 9, 8, 6, 3, 4, 3, 6, 4, 8, 10, 8, 8, 4, 5, 5, 3, 6, 5, 5, 7, 9, 9, 7, 8, 8, 6, 4, 8, 6, 11, 8, 4, 5, 9, 6, 5, 11, 8, 8, 5, 6, 6, 9, 4, 8, 11, 5, 9, 5, 6, 7, 8, 9, 7, 7, 6, 4, 3, 3, 4, 8, 10, 10, 6, 7, 10, 7, 5, 8, 11, 6, 10, 3, 5, 7, 10, 11, 9, 3, 7, 5, 6, 7, 7, 2, 10, 6, 10, 11, 4, 4, 11, 8, 6, 5, 8, 6, 6, 6, 5, 4, 3, 6, 7, 5, 5, 5, 3, 7, 7, 8, 8, 10, 5, 10, 4, 6, 7, 9, 6, 10, 5, 3, 6, 8, 9, 11, 7, 4, 4, 6, 12, 8, 6, 5, 8, 8, 10, 10, 8, 4, 6, 12, 6, 11, 7, 6, 5, 7, 6, 2, 6, 9, 5, 7, 7, 4, 5, 3, 5, 5, 10, 3, 7, 8, 10, 10, 8, 11, 9, 4, 6, 3, 9, 8, 9, 4, 9, 9, 3, 3, 11, 12, 9, 2, 7, 10, 8, 3, 5, 4, 10, 7, 7, 7, 11, 12, 5, 6, 6, 5, 6, 7, 7, 7, 9, 2, 5, 7, 6, 7, 10, 9, 7, 9, 7, 6, 7, 4, 4, 9, 6, 10, 7, 4, 9, 11, 4, 4, 7, 10, 5, 3, 11, 11, 9, 5, 10, 9, 5, 7, 12, 5, 3, 10, 7, 7, 5, 6, 5, 7, 11, 3, 4, 11, 9, 10, 6, 9, 10, 4, 9, 6, 10, 6, 5, 11, 10, 2, 4, 10, 7, 5, 9, 3, 4, 9, 3, 9, 6, 5, 5, 11, 9, 7, 3, 7, 7, 9, 7, 5, 8, 3, 7, 9, 7, 5, 2, 9, 5, 5, 7, 5, 10, 9, 4, 9, 5, 5, 12, 6, 4, 8, 7, 6, 10, 7, 8, 5, 8, 7, 3, 4, 9, 10, 10, 3, 4, 6, 6, 3, 5, 5, 7, 7, 5, 8, 7, 7, 7, 6, 5, 3, 11, 7, 7, 6, 7, 6, 4, 8, 4, 8, 7, 10, 7, 9, 6, 12, 6, 6, 7, 6, 6, 11, 4, 8, 2, 8, 9, 8, 8, 6, 8, 6, 4, 8, 5, 9, 6, 7, 6, 6, 6, 5, 10, 5, 2, 2, 12, 7, 6, 8, 9, 6, 10, 8, 11, 6, 11, 3, 9, 10, 5, 6, 8, 4, 9, 10, 6, 6, 8, 9, 8, 11, 5, 7, 10, 9, 8, 4, 11, 8, 9, 5, 8, 11, 2, 5, 10, 8, 8, 8, 9, 4, 9, 7, 6, 12, 5, 6, 10, 10, 3, 6, 6, 8, 10, 6, 10, 9, 4, 5, 8, 7, 10, 6, 6, 11, 8, 6, 4, 4, 9, 9, 5, 7, 4, 6, 10, 2, 7, 6, 9, 11, 10, 7, 6, 10, 2, 9, 7, 6, 9, 3, 2, 7, 11, 11, 7, 7, 6, 5, 12, 12, 5, 7, 6, 8, 7, 9, 8, 6, 2, 7, 10, 5, 8, 6, 8, 6, 7, 11, 2, 6, 11, 11, 6, 11, 5, 9, 4, 4, 6, 5, 5, 5, 6, 8, 3, 7, 5, 11, 6, 7, 8, 7, 5, 5, 4, 7, 7, 4, 5, 12, 2, 11, 7, 2, 6, 7, 8, 10, 5, 10, 10, 11, 8, 3, 4, 6, 9, 8, 9, 4, 8, 7, 9, 6, 8, 7, 10, 7, 7, 11, 9, 9, 5, 5, 7, 11, 5, 5, 7, 6, 7, 7, 6, 10, 8, 5, 11, 3, 8, 4, 7, 5, 7, 8, 6, 5, 9, 9, 7, 4, 8, 3, 7, 4, 7, 3, 7, 6, 10, 11, 5, 7, 6, 9, 6, 7, 6, 7, 7, 6, 7, 5, 7, 6, 8, 6, 4, 6, 10, 4, 2, 8, 7, 5, 4, 8, 4, 7, 7, 9, 7, 7, 6, 8, 12, 10, 12, 8, 8, 7, 11, 8, 7, 6, 2, 6, 4, 8, 11, 11, 5, 10, 12, 2, 5, 7, 5, 7, 9, 6, 5, 3, 5, 7, 4, 5, 5, 8, 8, 7, 7, 10, 9, 4, 11, 8, 8, 7, 6, 11, 8, 7, 10, 8, 11, 8, 10, 8, 2, 6, 5, 7, 9, 5, 3, 6, 5, 9, 4, 12, 11, 10, 5, 7, 9, 11, 8, 10, 8, 5, 9, 6, 8, 9, 8, 8, 4, 12, 5, 3, 11, 8, 6, 8, 12, 7, 7, 7, 9, 6, 8, 9, 10, 4, 9, 7, 6, 9, 6, 10, 7, 3, 6, 5, 10, 4, 7, 9, 7, 8, 6, 6, 6, 8, 6, 5, 7, 7, 11, 7, 3, 5, 6, 7, 6, 11, 8, 12, 10, 5, 7, 5, 4, 12, 5, 8, 4, 9, 8, 5, 12, 3, 10, 5, 5, 8, 7, 10, 9, 7, 4, 9, 9, 9, 8, 8, 10, 7, 9, 11, 4, 6, 9, 2, 8, 11, 8, 9, 9, 12, 8, 7, 6, 5, 9, 8, 12, 5, 5, 9, 6, 9, 10, 9, 8, 8, 6, 5, 10, 6, 5, 4, 3, 6, 9, 6, 10, 5, 6, 12, 10, 6, 6, 10, 4, 8, 9, 2, 5, 8, 5, 10, 8, 6, 7, 10, 9, 8, 9, 7, 7, 10, 8, 7, 7, 11, 4, 6, 4, 9, 7, 7, 6, 7, 6, 10, 3, 2, 3, 5, 8, 7, 4, 7, 5, 8, 7, 5, 6, 9, 4, 7, 4, 5, 5, 7, 8, 8, 8, 4, 4, 8, 6, 4, 8, 10, 4, 3, 8, 10, 8, 9, 7, 6, 6, 5, 3, 9, 4, 11, 5, 8, 9, 5, 8, 7, 5, 3, 6, 6, 9, 11, 5, 6, 5, 11, 9, 5, 7, 8, 6, 7, 4, 7, 5, 6, 6, 6, 5, 6, 11, 11, 7, 8, 7, 5, 9, 12, 7, 4, 6, 8, 11, 4, 11, 5, 7, 10, 4, 4, 2, 8, 12, 7, 7, 8, 4, 10, 8, 9, 7, 3, 5, 6, 6, 5, 9, 4, 9, 4, 10, 7, 11, 5, 6, 3, 6, 7, 9, 8, 3, 6, 12, 6, 10, 8, 9, 7, 7, 7, 9, 11, 6, 8, 7, 3, 7, 8, 9, 7, 7, 9, 5, 5, 2, 10, 8, 8, 7, 5, 11, 2, 4, 7, 5, 10, 8, 9, 8, 6, 6, 8, 7, 12, 5, 9, 4, 10, 7, 5, 7, 8, 8, 5, 7, 7, 9, 9, 7, 10, 10, 2, 7, 8, 7, 7, 8, 10, 7, 5, 10, 7, 6, 10, 7, 5, 9, 6, 4, 8, 8, 5, 2, 11, 7, 8, 7, 8, 10, 6, 6, 7, 6, 7, 6, 4, 11, 11, 5, 5, 3, 9, 12, 7, 11, 4, 6, 6, 10, 5, 7, 6, 12, 10, 7, 7, 3, 8, 7, 3, 9, 3, 8, 6, 6, 7, 6, 2, 9, 7, 10, 12, 10, 5, 6, 8, 9, 7, 9, 12, 9, 6, 10, 9, 3, 4, 3, 8, 5, 4, 5, 7, 7, 10, 7, 2, 8, 9, 3, 11, 8, 9, 7, 5, 4, 7, 7, 4, 7, 8, 10, 9, 6, 7, 8, 8, 5, 11, 3, 6, 6, 4, 5, 7, 5, 8, 9, 8, 9, 8, 7, 7, 2, 9, 9, 7, 8, 5, 8, 10, 9, 7, 5, 5, 10, 10, 6, 3, 8, 4, 4, 5, 7, 6, 6, 4, 7, 11, 5, 6, 5, 5, 7, 3, 6, 8, 11, 10, 8, 8, 3, 7, 9, 9, 5, 8, 7, 6, 11, 11, 8, 6, 10, 7, 12, 7, 6, 7, 10, 3, 8, 9, 3, 3, 12, 8, 8, 7, 7, 7, 11, 6, 9, 10, 4, 8, 9, 11, 9, 5, 9, 6, 7, 9, 9, 6, 5, 12, 8, 10, 10, 10, 8, 4, 5, 8, 8, 7, 4, 12, 7, 10, 8, 6, 11, 7, 5, 7, 7, 4, 8, 11, 8, 3, 7, 6, 4, 4, 3, 7, 8, 5, 5, 9, 11, 3, 7, 8, 4, 8, 7, 3, 6, 9, 6, 5, 8, 5, 6, 6, 5, 11, 9, 8, 11, 4, 7, 7, 7, 4, 4, 7, 9, 12, 6, 6, 6, 4, 7, 7, 11, 7, 8, 4, 11, 9, 7, 4, 11, 9, 10, 8, 8, 8, 9, 11, 5, 8, 8, 11, 9, 8, 7, 10, 11, 4, 9, 9, 2, 5, 9, 3, 9, 7, 9, 11, 9, 6, 8, 10, 5, 9, 6, 7, 8, 6, 11, 7, 4, 6, 9, 10, 9, 6, 6, 4, 5, 4, 10, 10, 7, 6, 7, 11, 9, 8, 9, 7, 3, 7, 5, 10, 10, 8, 4, 7, 10, 5, 8, 12, 3, 7, 8, 5, 3, 2, 7, 11, 5, 5, 7, 11, 9, 4, 5, 6, 8, 9, 8, 8, 3, 7, 8, 10, 9, 7, 4, 12, 4, 5, 7, 7, 5, 9, 8, 7, 7, 12, 6, 7, 7, 10, 8, 12, 6, 3, 9, 8, 5, 10, 4, 6, 7, 7, 7, 4, 7, 8, 4, 6, 4, 7, 5, 5, 8, 5, 6, 4, 7, 7, 3, 11, 9, 2, 6, 6, 10, 11, 5, 12, 9, 5, 8, 10, 4, 3, 7, 10, 8, 10, 8, 12, 11, 10, 6, 7, 6, 4, 7, 7, 12, 11, 3, 10, 3, 10, 10, 7, 5, 7, 5, 9, 9, 5, 8, 9, 3, 11, 8, 7, 2, 9, 3, 6, 9, 9, 7, 5, 8, 2, 9, 9, 10, 10, 9, 6, 5, 9, 5, 6, 8, 5, 3, 11, 6, 4, 8, 2, 4, 9, 10, 6, 9, 7, 7, 4, 11, 6, 8, 3, 9, 7, 4, 9, 6, 4, 5, 7, 4, 4, 6, 10, 10, 5, 7, 7, 10, 2, 12, 10, 7, 6, 5, 11, 7, 8, 2, 9, 7, 7, 10, 11, 2, 3, 7, 8, 11, 8, 7, 7, 8, 7, 9, 11, 5, 7, 5, 4, 5, 7, 9, 4, 6, 6, 11, 6, 7, 6, 8, 9, 8, 2, 10, 8, 3, 10, 4, 10, 6, 10, 8, 4, 7, 6, 8, 7, 7, 8, 8, 8, 9, 5, 8, 5, 9, 10, 4, 8, 7, 9, 6, 7, 5, 4, 9, 4, 9, 9, 6, 10, 7, 12, 6, 11, 6, 9, 8, 11, 5, 7, 10, 5, 5, 3, 8, 10, 7, 7, 7, 10, 2, 3, 7, 6, 8, 6, 4, 4, 10, 10, 7, 7, 7, 6, 7, 2, 7, 3, 7, 11, 6, 9, 10, 4, 6, 12, 10, 3, 6, 5, 4, 8, 4, 8, 8, 5, 9, 11, 9, 8, 9, 11, 5, 4, 8, 10, 4, 7, 11, 7, 9, 7, 10, 7, 5, 6, 7, 5, 9, 5, 3, 8, 4, 6, 9, 11, 8, 10, 11, 5, 11, 11, 7, 8, 6, 9, 4, 9, 11, 8, 8, 6, 7, 7, 3, 5, 6, 7, 5, 12, 5, 7, 12, 4, 8, 8, 11, 7, 9, 5, 6, 4, 8, 4, 6, 7, 8, 3, 9, 12, 7, 11, 10, 9, 7, 5, 6, 10, 11, 7, 6, 7, 7, 9, 6, 6, 3, 10, 11, 7, 7, 3, 6, 8, 5, 8, 6, 7, 9, 4, 6, 12, 4, 8, 7, 9, 10, 5, 8, 3, 7, 9, 8, 2, 2, 3, 7, 5, 9, 5, 3, 6, 9, 3, 6, 10, 5, 6, 2, 3, 5, 7, 5, 5, 8, 7, 9, 4, 8, 11, 11, 4, 8, 8, 6, 8, 8, 9, 7, 5, 10, 9, 9, 11, 10, 3, 5, 5, 4, 9, 9, 6, 5, 2, 8, 5, 6, 7, 6, 11, 7, 9, 4, 5, 3, 7, 4, 5, 9, 6, 9, 12, 5, 10, 9, 7, 8, 6, 11, 8, 6, 8, 6, 5, 7, 7, 8, 7, 8, 9, 7, 6, 11, 12, 4, 8, 5, 11, 8, 6, 4, 3, 6, 7, 10, 9, 6, 7, 5, 8, 3, 6, 9, 6, 6, 11, 4, 6, 7, 10, 2, 3, 7, 5, 8, 11, 8, 6, 10, 9, 5, 7, 12, 7, 9, 10, 7, 8, 4, 4, 7, 12, 10, 6, 9, 5, 6, 6, 4, 4, 10, 6, 9, 8, 8, 10, 9, 8, 7, 11, 8, 4, 5, 5, 7, 9, 5, 3, 3, 5, 8, 8, 2, 11, 4, 10, 11, 6, 8, 11, 7, 5, 3, 10, 8, 7, 7, 4, 8, 6, 5, 7, 4, 6, 7, 6, 7, 6, 5, 11, 7, 8, 7, 9, 8, 7, 7, 9, 9, 7, 11, 9, 8, 8, 6, 9, 6, 10, 11, 6, 5, 9, 9, 5, 8, 2, 11, 3, 9, 12, 3, 12, 7, 5, 5, 6, 7, 7, 10, 3, 2, 7, 8, 4, 3, 6, 8, 10, 5, 5, 10, 9, 6, 8, 6, 6, 7, 6, 10, 8, 7, 9, 9, 11, 11, 2, 7, 8, 7, 4, 6, 3, 4, 5, 7, 9, 6, 7, 8, 5, 5, 4, 9, 6, 9, 11, 12, 8, 8, 4, 6, 10, 8, 7, 6, 3, 11, 10, 8, 5, 11, 10, 7, 5, 8, 9, 4, 7, 5, 7, 10, 4, 7, 3, 7, 6, 5, 8, 3, 7, 8, 6, 7, 6, 9, 6, 9, 6, 7, 11, 5, 8, 9, 5, 5, 9, 10, 7, 5, 3, 4, 9, 11, 7, 12, 8, 6, 5, 11, 12, 7, 5, 7, 6, 5, 9, 7, 10, 3, 7, 7, 9, 6, 9, 8, 12, 8, 6, 6, 7, 8, 12, 7, 4, 6, 8, 7, 3, 4, 12, 8, 8, 10, 8, 8, 8, 10, 7, 7, 6, 6, 10, 8, 6, 8, 5, 10, 4, 4, 6, 2, 8, 10, 8, 5, 2, 9, 6, 9, 4, 11, 5, 7, 7, 12, 6, 4, 8, 8, 7, 3, 6, 5, 9, 10, 11, 8, 6, 4, 10, 6, 8, 2, 6, 2, 8, 6, 8, 6, 9, 9, 8, 4, 6, 7, 6, 9, 7, 7, 7, 5, 9, 4, 6, 9, 3, 5, 3, 2, 10, 11, 8, 9, 7, 8, 7, 8, 8, 7, 8, 6, 9, 5, 5, 8, 6, 5, 5, 9, 8, 7, 5, 6, 4, 8, 4, 10, 7, 9, 6, 12, 4, 8, 6, 5, 2, 11, 2, 6, 7, 12, 4, 5, 9, 9, 10, 7, 7, 6, 8, 10, 4, 7, 9, 7, 6, 6, 7, 4, 8, 6, 9, 5, 10, 5, 7, 10, 10, 5, 8, 7, 5, 7, 6, 2, 9, 9, 9, 4, 8, 7, 7, 3, 7, 5, 6, 8, 4, 5, 6, 7, 10, 6, 6, 7, 3, 8, 5, 7, 4, 9, 4, 11, 7, 12, 7, 11, 11, 9, 5, 9, 11, 6, 8, 7, 5, 7, 2, 5, 2, 5, 7, 7, 7, 8, 9, 9, 6, 12, 10, 8, 8, 5, 6, 7, 9, 8, 9, 11, 8, 11, 7, 10, 7, 7, 10, 9, 7, 7, 8, 2, 7, 11, 5, 6, 7, 12, 8, 6, 9, 6, 11, 6, 7, 7, 4, 5, 11, 6, 3, 9, 9, 5, 3, 10, 9, 6, 8, 7, 5, 10, 8, 6, 9, 6, 3, 7, 7, 4, 8, 9, 11, 2, 8, 11, 8, 10, 10, 9, 7, 9, 9, 5, 8, 6, 12, 10, 11, 5, 8, 4, 8, 8, 8, 10, 5, 5, 6, 3, 4, 5, 5, 7, 7, 4, 2, 7, 12, 4, 9, 4, 11, 7, 8, 8, 7, 6, 5, 5, 7, 5, 10, 5, 9, 9, 4, 10, 10, 11, 5, 5, 12, 3, 9, 5, 8, 9, 5, 6, 3, 6, 5, 4, 8, 8, 5, 9, 9, 2, 6, 10, 9, 8, 10, 8, 9, 11, 4, 6, 5, 7, 7, 2, 4, 7, 9, 11, 10, 6, 10, 6, 5, 3, 4, 2, 8, 8, 6, 5, 11, 4, 7, 9, 7, 5, 9, 2, 5, 10, 9, 9, 5, 3, 12, 9, 8, 11, 9, 10, 4, 3, 6, 5, 2, 12, 9, 12, 10, 8, 5, 4, 8, 6, 2, 6, 8, 4, 10, 9, 9, 8, 2, 4, 6, 6, 6, 9, 8, 5, 8, 7, 8, 6, 4, 9, 2, 4, 3, 6, 5, 9, 5, 8, 6, 8, 7, 10, 6, 5, 5, 8, 6, 5, 5, 7, 8, 3, 10, 6, 7, 6, 12, 7, 4, 4, 6, 7, 6, 6, 6, 8, 6, 8, 3, 3, 9, 9, 11, 12, 9, 6, 12, 7, 5, 4, 7, 7, 7, 11, 5, 5, 7, 7, 3, 5, 6, 7, 3, 9, 8, 9, 7, 10, 9, 4, 6, 6, 6, 7, 10, 5, 6, 6, 10, 5, 6, 5, 4, 12, 10, 12, 6, 4, 4, 7, 10, 5, 3, 7, 8, 5, 5, 3, 8, 11, 11, 7, 8, 7, 8, 8, 9, 8, 7, 9, 9, 11, 11, 10, 8, 6, 4, 7, 7, 6, 7, 5, 3, 11, 11, 5, 7, 8, 6, 7, 10, 9, 7, 5, 9, 6, 3, 3, 8, 5, 5, 3, 4, 8, 8, 7, 8, 12, 10, 7, 6, 6, 8, 10, 6, 6, 5, 2, 5, 9, 9, 7, 9, 5, 9, 4, 8, 9, 5, 6, 6, 8, 9, 9, 11, 2, 8, 5, 7, 9, 8, 6, 10, 12, 4, 2, 4, 11, 4, 8, 11, 11, 5, 7, 8, 8, 7, 8, 12, 9, 9, 6, 6, 11, 6, 10, 4, 11, 7, 7, 12, 7, 10, 8, 10, 10, 9, 3, 6, 5, 8, 5, 3, 3, 2, 5, 6, 5, 7, 3, 8, 8, 6, 8, 5, 2, 8, 7, 7, 9, 9, 9, 9, 7, 8, 8, 8, 4, 11, 8, 3, 8, 4, 6, 7, 6, 7, 9, 10, 6, 8, 11, 7, 7, 8, 2, 4, 5, 5, 9, 11, 10, 7, 7, 8, 6, 9, 7, 11, 8, 9, 10, 2, 3, 7, 2, 7, 6, 5, 9, 6, 7, 9, 9, 9, 2, 7, 6, 6, 10, 9, 3, 8, 8, 5, 3, 9, 9, 6, 8, 8, 12, 7, 6, 5, 6, 6, 5, 6, 5, 7, 12, 4, 11, 4, 11, 9, 4, 5, 7, 8, 6, 6, 10, 4, 7, 4, 8, 10, 3, 3, 5, 6, 8, 8, 6, 5, 11, 4, 9, 7, 5, 8, 7, 10, 2, 8, 4, 9, 10, 3, 11, 6, 10, 9, 8, 3, 6, 3, 12, 8, 3, 7, 8, 11, 6, 10, 6, 7, 9, 4, 9, 9, 7, 4, 8, 6, 10, 2, 11, 4, 3, 5, 5, 8, 4, 6, 7, 6, 4, 9, 6, 7, 5, 4, 6, 2, 4, 2, 5, 9, 11, 5, 2, 10, 7, 5, 10, 6, 8, 5, 8, 7, 4, 6, 6, 4, 7, 8, 9, 7, 3, 8, 7, 8, 2, 9, 3, 5, 10, 9, 6, 4, 8, 9, 7, 7, 3, 6, 4, 2, 5, 7, 9, 5, 5, 3, 2, 4, 3, 2, 5, 12, 7, 7, 8, 8, 9, 10, 5, 5, 7, 5, 5, 3, 11, 7, 5, 7, 6, 9, 4, 6, 12, 7, 3, 8, 4, 7, 9, 4, 7, 12, 6, 5, 7, 8, 11, 9, 6, 10, 10, 8, 7, 3, 4, 3, 12, 9, 12, 8, 10, 9, 2, 8, 6, 8, 6, 5, 9, 8, 8, 8, 8, 10, 8, 4, 7, 3, 4, 3, 6, 3, 6, 7, 9, 7, 4, 9, 8, 10, 12, 5, 9, 6, 7, 4, 4, 3, 6, 6, 8, 12, 11, 11, 7, 5, 7, 3, 9, 6, 10, 7, 8, 9, 4, 11, 2, 10, 2, 7, 7, 11, 6, 7, 7, 8, 9, 5, 10, 2, 8, 12, 4, 9, 9, 9, 5, 4, 8, 8, 8, 9, 7, 7, 5, 7, 11, 3, 3, 3, 4, 5, 6, 3, 9, 7, 10, 6, 9, 6, 5, 11, 7, 10, 5, 7, 11, 8, 10, 6, 9, 9, 4, 8, 7, 7, 4, 10, 5, 6, 9, 6, 6, 6, 6, 8, 9, 8, 3, 8, 2, 12, 5, 3, 9, 2, 4, 6, 3, 10, 8, 9, 10, 10, 9, 3, 7, 4, 4, 7, 6, 10, 3, 6, 8, 7, 7, 2, 4, 8, 5, 3, 8, 6, 8, 7, 7, 8, 7, 4, 5, 6, 4, 9, 8, 9, 5, 7, 5, 7, 5, 8, 6, 4, 4, 7, 7, 4, 2, 5, 10, 6, 7, 7, 7, 6, 6, 5, 2, 4, 6, 4, 7, 4, 9, 8, 7, 5, 8, 7, 7, 11, 6, 8, 7, 11, 7, 3, 6, 8, 2, 8, 10, 11, 6, 5, 4, 5, 8, 2, 9, 5, 4, 5, 12, 7, 9, 12, 10, 5, 6, 6, 8, 6, 7, 11, 6, 2, 5, 7, 7, 7, 8, 5, 5, 7, 9, 6, 6, 7, 9, 6, 4, 8, 11, 6, 4, 9, 5, 9, 5, 11, 6, 7, 5, 9, 4, 9, 5, 11, 7, 7, 6, 8, 6, 5, 9, 7, 6, 10, 2, 3, 5, 8, 7, 6, 6, 8, 8, 10, 6, 8, 5, 10, 7, 9, 6, 6, 10, 10, 8, 7, 5, 5, 8, 4, 7, 11, 10, 7, 7, 10, 7, 8, 7, 4, 5, 9, 10, 10, 2, 3, 7, 5, 6, 8, 7, 7, 12, 8, 10, 10, 2, 7, 7, 7, 6, 7, 8, 7, 5, 5, 6, 5, 8, 10, 12, 7, 6, 9, 9, 7, 11, 8, 4, 12, 5, 2, 3, 10, 7, 3, 2, 7, 4, 4, 2, 3, 9, 7, 9, 8, 7, 3, 10, 7, 8, 4, 8, 7, 7, 5, 4, 4, 4, 5, 12, 6, 6, 7, 7, 7, 2, 7, 4, 4, 7, 6, 6, 7, 2, 6, 4, 3, 6, 9, 12, 7, 7, 7, 7, 11, 7, 8, 5, 7, 4, 6, 6, 9, 5, 10, 4, 7, 6, 7, 7, 2, 3, 5, 7, 6, 5, 8, 9, 8, 7, 12, 2, 8, 10, 7, 9, 3, 7, 7, 5, 5, 8, 11, 2, 9, 10, 9, 11, 9, 9, 9, 5, 6, 6, 8, 8, 5, 7, 6, 8, 4, 8, 8, 7, 7, 8, 6, 12, 9, 5, 10, 10, 7, 7, 6, 8, 6, 8, 6, 10, 7, 3, 5, 5, 7, 3, 9, 8, 4, 7, 3, 7, 5, 7, 6, 10, 8, 6, 9, 8, 8, 9, 5, 4, 7, 11, 7, 5, 9, 2, 11, 3, 8, 7, 11, 7, 5, 11, 4, 3, 7, 4, 6, 8, 6, 5, 6, 2, 10, 6, 8, 8, 6, 10, 9, 8, 10, 3, 8, 8, 7, 6, 7, 7, 12, 8, 5, 7, 8, 11, 7, 4, 7, 2, 10, 5, 8, 8, 6, 8, 6, 11, 7, 8, 9, 9, 3, 5, 8, 10, 3, 4, 5, 9, 8, 5, 6, 7, 8, 8, 4, 7, 9, 10, 6, 9, 7, 6, 4, 10, 12, 8, 6, 7, 9, 10, 11, 11, 7, 7, 8, 8, 3, 11, 6, 3, 7, 6, 7, 4, 7, 8, 8, 3, 5, 9, 8, 9, 3, 7, 8, 4, 6, 5, 6, 3, 12, 5, 6, 6, 6, 7, 8, 6, 10, 8, 4, 10, 7, 5, 4, 7, 8, 7, 4, 5, 10, 7, 7, 8, 5, 5, 8, 10, 9, 4, 3, 8, 5, 8, 11, 8, 5, 5, 8, 6, 7, 6, 4, 8, 9, 7, 5, 12, 5, 6, 5, 8, 7, 5, 5, 3, 8, 2, 12, 5, 8, 6, 8, 6, 6, 11, 12, 7, 6, 10, 4, 6, 6, 7, 5, 7, 6, 7, 10, 10, 5, 8, 11, 9, 5, 5, 4, 8, 8, 7, 3, 4, 9, 10, 11, 8, 11, 8, 8, 7, 4, 6, 10, 7, 5, 7, 5, 9, 7, 3, 11, 8, 9, 4, 7, 6, 9, 11, 11, 7, 12, 7, 11, 7, 3, 11, 9, 11, 7, 10, 7, 3, 6, 5, 7, 7, 10, 6, 8, 7, 7, 6, 9, 8, 6, 7, 6, 6, 6, 7, 11, 3, 6, 8, 8, 6, 10, 9, 8, 6, 4, 9, 2, 5, 7, 11, 8, 8, 5, 9, 10, 5, 6, 8, 8, 9, 3, 8, 11, 5, 7, 8, 4, 8, 5, 11, 2, 5, 6, 7, 8, 8, 8, 7, 8, 7, 7, 6, 4, 7, 6, 7, 9, 7, 8, 4, 8, 6, 8, 5, 3, 8, 9, 8, 3, 9, 7, 7, 10, 2, 9, 11, 7, 10, 9, 2, 7, 6, 6, 8, 7, 9, 6, 7, 3, 11, 7, 12, 10, 10, 9, 10, 9, 4, 10, 10, 4, 5, 8, 9, 6, 7, 2, 10, 9, 9, 2, 3, 7, 7, 10, 5, 4, 5, 9, 5, 6, 9, 7, 10, 8, 9, 8, 5, 7, 6, 7, 11, 7, 12, 8, 4, 5, 2, 4, 11, 10, 10, 8, 8, 7, 7, 11, 9, 9, 9, 6, 9, 5, 6, 8, 10, 5, 10, 7, 6, 9, 3, 5, 3, 8, 6, 7, 5, 4, 10, 8, 8, 6, 7, 7, 4, 8, 7, 5, 10, 5, 8, 7, 8, 6, 4, 7, 7, 9, 9, 7, 9, 8, 5, 4, 7, 11, 10, 2, 9, 2, 7, 3, 8, 8, 4, 8, 7, 9, 11, 3, 8, 5, 8, 10, 8, 8, 4, 3, 5, 12, 4, 7, 8, 5, 6, 9, 4, 7, 11, 4, 5, 5, 5, 7, 7, 5, 12, 8, 10, 5, 2, 9, 10, 5, 5, 3, 9, 5, 8, 8, 7, 5, 8, 4, 9, 7, 6, 7, 4, 7, 7, 7, 8, 10, 3, 8, 5, 9, 7, 9, 9, 5, 9, 6, 9, 11, 7, 6, 10, 8, 9, 12, 3, 6, 7, 7, 10, 11, 5, 8, 8, 10, 7, 6, 8, 3, 9, 10, 8, 6, 3, 9, 4, 7, 9, 8, 5, 12, 7, 5, 3, 8, 8, 9, 9, 5, 7, 9, 11, 8, 12, 6, 3, 9, 6, 4, 4, 9, 6, 11, 12, 3, 7, 7, 6, 6, 8, 9, 7, 5, 9, 5, 9, 8, 7, 6, 4, 11, 5, 7, 12, 7, 11, 12, 6, 7, 10, 7, 6, 8, 4, 7, 6, 2, 5, 8, 12, 3, 5, 4, 5, 7, 7, 9, 7, 3, 9, 6, 6, 8, 3, 7, 5, 12, 2, 4, 3, 2, 7, 3, 5, 9, 6, 5, 3, 8, 6, 4, 9, 7, 3, 4, 7, 9, 5, 7, 5, 4, 6, 4, 5, 8, 7, 5, 10, 7, 7, 4, 4, 3, 8, 5, 8, 3, 7, 9, 8, 9, 7, 6, 2, 4, 11, 8, 8, 4, 9, 4, 9, 8, 9, 6, 6, 7, 8, 11, 8, 5, 12, 3, 10, 5, 9, 7, 3, 6, 9, 8, 6, 9, 10, 6, 7, 3, 5, 11, 8, 8, 7, 4, 7, 8, 4, 4, 2, 10, 7, 5, 7, 9, 8, 8, 7, 9, 5, 6, 3, 10, 4, 6, 9, 4, 6, 5, 6, 6, 9, 11, 7, 9, 3, 5, 7, 7, 4, 3, 5, 6, 9, 11, 10, 7, 7, 12, 8, 8, 7, 9, 6, 7, 8, 8, 6, 9, 4, 5, 5, 7, 5, 8, 5, 10, 7, 7, 3, 12, 10, 10, 6, 7, 8, 10, 6, 7, 9, 4, 9, 6, 8, 3, 10, 8, 6, 6, 7, 5, 6, 9, 8, 8, 9, 6, 6, 8, 5, 7, 6, 5, 6, 9, 7, 8, 5, 5, 10, 11, 7, 12, 6, 6, 10, 3, 7, 6, 8, 7, 12, 7, 9, 5, 9, 9, 4, 6, 2, 9, 5, 6, 7, 8, 10, 7, 6, 5, 7, 5, 12, 9, 4, 6, 7, 5, 4, 7, 11, 8, 12, 11, 12, 9, 6, 11, 3, 4, 7, 11, 6, 6, 11, 8, 5, 6, 6, 8, 6, 8, 10, 8, 3, 6, 9, 5, 6, 6, 7, 8, 9, 11, 9, 8, 2, 5, 6, 5, 6, 10, 6, 10, 8, 4, 7, 10, 7, 9, 6, 8, 3, 7, 4, 7, 5, 7, 6, 5, 6, 7, 8, 8, 7, 6, 9, 4, 7, 5, 12, 8, 6, 6, 5, 8, 8, 8, 6, 10, 7, 9, 7, 9, 8, 9, 10, 8, 5, 10, 8, 8, 7, 11, 11, 10, 6, 7, 6, 6, 9, 8, 6, 7, 6, 6, 4, 8, 5, 11, 6, 7, 8, 8, 9, 12, 5, 10, 8, 6, 5, 6, 6, 7, 4, 6, 10, 9, 4, 8, 4, 7, 7, 11, 7, 6, 9, 6, 3, 6, 3, 10, 9, 6, 7, 11, 8, 8, 3, 2, 8, 6, 11, 5, 8, 3, 7, 6, 5, 4, 7, 4, 8, 8, 9, 6, 9, 11, 10, 4, 9, 5, 11, 4, 6, 9, 10, 9, 7, 7, 4, 7, 4, 8, 11, 11, 7, 2, 9, 10, 8, 5, 7, 8, 8, 3, 4, 7, 9, 11, 8, 5, 9, 7, 8, 2, 6, 10, 9, 6, 3, 8, 6, 9, 5, 5, 11, 7, 8, 8, 8, 5, 9, 6, 10, 7, 6, 6, 6, 7, 4, 7, 7, 5, 8, 5, 3, 7, 6, 8, 9, 5, 6, 9, 9, 9, 11, 10, 7, 5, 12, 9, 9, 5, 8, 7, 7, 5, 5, 8, 10, 6, 7, 8, 5, 2, 9, 4, 8, 8, 5, 9, 7, 8, 9, 2, 8, 9, 6, 7, 6, 8, 6, 5, 3, 10, 4, 5, 3, 6, 4, 6, 6, 8, 7, 10, 8, 3, 2, 6, 11, 8, 10, 4, 9, 5, 6, 10, 9, 5, 9, 5, 7, 4, 5, 5, 7, 11, 8, 3, 8, 3, 9, 10, 7, 6, 10, 4, 7, 7, 4, 6, 9, 9, 8, 9, 7, 6, 6, 7, 8, 8, 5, 7, 7, 9, 8, 5, 4, 4, 8, 10, 8, 3, 8, 11, 6, 9, 6, 5, 5, 6, 8, 8, 9, 5, 4, 2, 12, 11, 6, 12, 12, 10, 5, 4, 3, 6, 4, 3, 8, 8, 4, 9, 6, 7, 9, 8, 9, 9, 10, 8, 11, 7, 4, 8, 4, 11, 11, 8, 7, 10, 8, 6, 6, 9, 6, 5, 7, 5, 5, 9, 11, 8, 4, 6, 6, 6, 6, 5, 7, 10, 4, 11, 7, 8, 4, 4, 7, 7, 5, 7, 6, 6, 8, 9, 6, 8, 9, 5, 8, 4, 2, 6, 5, 8, 5, 6, 8, 8, 6, 9, 10, 4, 6, 9, 4, 5, 5, 9, 10, 5, 7, 5, 5, 8, 7, 6, 6, 8, 9, 7, 8, 10, 3, 6, 8, 9, 12, 8, 8, 6, 3, 11, 5, 9, 5, 10, 11, 5, 10, 6, 4, 6, 10, 12, 5, 11, 6, 8, 7, 8, 9, 8, 2, 7, 6, 4, 7, 7, 6, 7, 4, 7, 11, 7, 11, 4, 8, 5, 8, 5, 8, 5, 11, 4, 7, 8, 9, 9, 3, 5, 9, 4, 9, 8, 6, 9, 7, 10, 10, 6, 4, 8, 3, 8, 4, 7, 3, 4, 6, 7, 10, 8, 5, 9, 7, 8, 4, 8, 12, 10, 8, 7, 5, 6, 7, 12, 8, 6, 6, 6, 11, 6, 6, 6, 7, 11, 2, 7, 10, 9, 10, 7, 4, 12, 6, 10, 6, 8, 7, 9, 4, 7, 9, 6, 8, 6, 7, 7, 10, 8, 4, 5, 6, 4, 9, 7, 4, 9, 5, 9, 11, 7, 4, 11, 5, 3, 8, 7, 3, 10, 4, 10, 10, 6, 3, 3, 4, 6, 9, 3, 4, 6, 7, 6, 7, 9, 8, 7, 6, 7, 5, 7, 3, 7, 7, 11, 5, 5, 7, 11, 5, 7, 4, 5, 7, 4, 8, 6, 2, 8, 6, 5, 10, 12, 10, 8, 12, 2, 3, 8, 7, 11, 7, 9, 7, 6, 3, 4, 6, 10, 9, 9, 8, 5, 8, 8, 8, 10, 9, 2, 11, 11, 6, 11, 12, 7, 6, 10, 6, 12, 11, 6, 5, 5, 6, 11, 9, 5, 7, 8, 10, 8, 10, 3, 5, 10, 8, 4, 9, 4, 9, 8, 7, 6, 10, 3, 11, 4, 8, 4, 8, 9, 8, 7, 5, 6, 8, 6, 7, 10, 8, 2, 8, 2, 4, 7, 5, 7, 4, 6, 10, 10, 11, 5, 7, 7, 9, 8, 11, 2, 12, 10, 8, 6, 8, 8, 10, 5, 9, 7, 10, 3, 11, 10, 5, 2, 4, 11, 9, 12, 10, 10, 9, 6, 7, 6, 4, 7, 6, 9, 7, 9, 9, 11, 3, 6, 3, 9, 8, 7, 7, 9, 6, 7, 5, 9, 7, 8, 7, 7, 8, 5, 8, 7, 4, 8, 11, 6, 6, 9, 6, 11, 2, 6, 6, 7, 2, 9, 4, 6, 3, 10, 8, 7, 7, 8, 11, 5, 3, 10, 3, 10, 10, 7, 7, 5, 9, 6, 8, 7, 10, 5, 7, 6, 5, 11, 11, 9, 7, 8, 11, 11, 3, 5, 9, 5, 8, 3, 9, 9, 2, 11, 10, 8, 7, 10, 6, 8, 7, 10, 9, 7, 8, 11, 8, 6, 8, 5, 2, 7, 7, 8, 2, 9, 9, 7, 12, 8, 8, 5, 10, 3, 7, 7, 8, 7, 11, 8, 4, 7, 9, 8, 10, 4, 7, 5, 3, 9, 11, 11, 9, 2, 8, 2, 6, 3, 11, 4, 9, 10, 11, 10, 10, 4, 7, 5, 8, 9, 8, 5, 11, 5, 8, 9, 7, 9, 8, 6, 8, 3, 9, 7, 10, 7, 11, 11, 10, 5, 8, 11, 8, 2, 10, 5, 5, 9, 6, 3, 4, 6, 6, 3, 6, 8, 4, 10, 5, 4, 8, 12, 7, 5, 8, 7, 8, 5, 7, 3, 6, 10, 8, 6, 8, 7, 12, 4, 7, 5, 6, 6, 8, 6, 7, 5, 5, 9, 8, 7, 12, 9, 8, 12, 8, 7, 9, 7, 10, 3, 9, 9, 8, 4, 10, 3, 8, 10, 3, 5, 5, 7, 6, 9, 6, 4, 9, 3, 7, 7, 8, 4, 2, 8, 2, 4, 7, 7, 6, 9, 5, 6, 8, 3, 9, 10, 6, 7, 3, 8, 6, 7, 8, 8, 11, 3, 6, 3, 6, 8, 4, 8, 7, 3, 7, 9, 8, 7, 6, 8, 6, 7, 3, 7, 11, 9, 8, 11, 9, 5, 7, 7, 8, 7, 2, 8, 6, 7, 10, 5, 9, 7, 8, 5, 6, 9, 5, 9, 9, 9, 9, 4, 10, 6, 9, 5, 6, 6, 8, 8, 3, 8, 6, 12, 9, 7, 8, 9, 3, 9, 11, 6, 8, 10, 7, 10, 10, 5, 4, 4, 7, 9, 6, 9, 8, 4, 7, 7, 4, 6, 11, 6, 9, 4, 6, 8, 8, 4, 5, 5, 8, 9, 7, 3, 4, 5, 4, 6, 11, 7, 4, 3, 8, 3, 6, 6, 7, 9, 9, 7, 9, 4, 3, 11, 10, 8, 10, 8, 6, 8, 6, 10, 11, 12, 2, 9, 5, 5, 4, 8, 11, 8, 8, 4, 12, 8, 6, 6, 10, 5, 8, 10, 9, 6, 8, 8, 10, 6, 6, 9, 7, 6, 9, 8, 3, 6, 7, 8, 8, 6, 9, 2, 3, 6, 4, 5, 4, 8, 6, 9, 10, 3, 4, 5, 6, 4, 8, 8, 7, 4, 3, 3, 6, 11, 5, 7, 6, 6, 3, 9, 7, 7, 9, 7, 6, 7, 7, 10, 6, 9, 6, 8, 10, 5, 11, 7, 3, 8, 8, 7, 4, 9, 4, 8, 3, 6, 6, 7, 5, 7, 11, 6, 2, 3, 9, 8, 7, 6, 7, 7, 9, 6, 8, 10, 7, 5, 8, 9, 4, 5, 7, 11, 7, 7, 9, 6, 4, 5, 7, 6, 2, 8, 9, 7, 6, 6, 3, 5, 10, 5, 5, 11, 5, 7, 8, 5, 6, 8, 8, 4, 6, 12, 6, 9, 4, 11, 6, 8, 9, 7, 6, 9, 6, 6, 2, 6, 6, 7, 5, 11, 9, 4, 8, 4, 3, 3, 7, 10, 9, 5, 7, 4, 11, 9, 10, 5, 8, 6, 11, 5, 5, 7, 6, 9, 3, 10, 6, 7, 5, 6, 3, 8, 7, 9, 6, 9, 3, 7, 8, 5, 6, 9, 7, 10, 3, 10, 11, 8, 11, 8, 12, 7, 8, 4, 6, 11, 9, 7, 3, 9, 2, 6, 5, 9, 8, 10, 5, 5, 6, 8, 6, 8, 8, 5, 10, 5, 11, 4, 7, 5, 10, 8, 10, 5, 2, 7, 4, 4, 7, 4, 3, 8, 5, 9, 9, 7, 7, 6, 9, 7, 6, 8, 5, 7, 11, 7, 7, 2, 4, 3, 4, 3, 8, 5, 6, 6, 5, 9, 5, 11, 7, 8, 4, 8, 10, 6, 6, 4, 11, 7, 9, 8, 7, 9, 7, 3, 6, 6, 7, 7, 3, 10, 8, 5, 3, 9, 2, 10, 8, 9, 2, 5, 8, 5, 6, 4, 9, 9, 5, 8, 7, 6, 6, 6, 8, 4, 4, 9, 3, 10, 3, 6, 10, 11, 5, 12, 8, 9, 9, 11, 7, 8, 11, 12, 7, 7, 3, 6, 10, 12, 8, 10, 6, 11, 6, 5, 9, 7, 2, 7, 8, 10, 7, 6, 4, 7, 8, 7, 5, 5, 6, 7, 8, 3, 8, 6, 10, 12, 12, 9, 10, 7, 7, 7, 8, 6, 12, 11, 9, 6, 6, 2, 8, 11, 8, 11, 12, 5, 7, 8, 12, 6, 9, 7, 10, 9, 6, 7, 11, 6, 7, 9, 5, 7, 10, 4, 8, 6, 7, 7, 8, 11, 4, 12, 9, 7, 9, 6, 7, 7, 5, 9, 7, 9, 10, 9, 7, 7, 7, 10, 6, 5, 8, 7, 7, 7, 5, 9, 6, 8, 8, 9, 3, 9, 5, 7, 12, 4, 8, 6, 6, 6, 8, 8, 10, 7, 5, 11, 9, 4, 8, 5, 3, 10, 6, 7, 6, 8, 5, 12, 7, 8, 4, 3, 5, 8, 10, 3, 7, 7, 2, 8, 10, 2, 6, 11, 4, 9, 6, 4, 6, 11, 7, 12, 5, 7, 4, 8, 4, 4, 6, 9, 5, 6, 5, 11, 7, 10, 6, 9, 9, 7, 9, 5, 6, 8, 11, 4, 9, 5, 6, 7, 9, 6, 5, 6, 6, 10, 10, 4, 8, 7, 7, 9, 4, 4, 4, 5, 7, 10, 6, 5, 8, 2, 4, 3, 3, 7, 11, 7, 5, 9, 6, 11, 3, 6, 10, 9, 10, 5, 10, 11, 9, 4, 7, 6, 3, 3, 4, 9, 10, 10, 11, 4, 3, 7, 5, 12, 9, 12, 7, 4, 4, 4, 11, 6, 2, 7, 7, 4, 11, 3, 8, 7, 9, 6, 9, 6, 9, 6, 4, 7, 7, 8, 11, 8, 6, 6, 6, 7, 2, 7, 6, 8, 12, 8, 6, 9, 10, 9, 3, 8, 9, 5, 7, 6, 12, 7, 5, 7, 7, 6, 9, 10, 7, 9, 8, 3, 8, 5, 4, 7, 8, 4, 7, 12, 9, 10, 2, 7, 8, 4, 3, 7, 5, 8, 9, 2, 4, 8, 7, 5, 7, 2, 8, 4, 7, 4, 10, 6, 3, 7, 5, 7, 10, 10, 7, 3, 7, 7, 12, 11, 7, 10, 6, 8, 4, 8, 7, 4, 4, 12, 6, 6, 7, 11, 5, 6, 5, 7, 8, 7, 10, 10, 7, 7, 7, 4, 10, 6, 9, 4, 8, 6, 10, 4, 5, 7, 12, 7, 10, 6, 12, 3, 6, 11, 9, 3, 9, 4, 9, 6, 8, 9, 8, 8, 8, 8, 2, 8, 4, 2, 7, 9, 5, 7, 9, 9, 8, 7, 7, 6, 5, 7, 7, 12, 9, 7, 6, 4, 7, 7, 5, 8, 7, 4, 7, 3, 6, 7, 8, 7, 2, 3, 8, 9, 9, 8, 9, 5, 8, 8, 11, 7, 10, 6, 6, 9, 8, 7, 3, 4, 3, 2, 9, 3, 7, 6, 10, 9, 9, 6, 2, 9, 6, 4, 12, 5, 7, 6, 9, 6, 5, 7, 7, 11, 8, 8, 10, 5, 3, 5, 7, 7, 5, 4, 7, 12, 10, 6, 5, 7, 10, 5, 10, 9, 5, 7, 4, 7, 6, 12, 10, 8, 2, 3, 9, 9, 3, 11, 6, 5, 12, 4, 7, 8, 12, 6, 7, 10, 6, 12, 5, 5, 6, 8, 6, 10, 5, 7, 3, 8, 7, 12, 9, 5, 6, 7, 11, 8, 9, 6, 7, 7, 6, 9, 8, 7, 6, 5, 7, 2, 8, 5, 6, 9, 6, 8, 5, 6, 3, 8, 4, 5, 11, 8, 8, 6, 5, 8, 8, 4, 5, 10, 9, 3, 4, 3, 11, 5, 9, 8, 4, 7, 4, 5, 7, 7, 10, 7, 8, 7, 7, 9, 8, 4, 6, 9, 10, 2, 10, 10, 8, 5, 7, 5, 8, 10, 8, 9, 10, 8, 4, 12, 7, 3, 3, 8, 4, 4, 9, 7, 11, 8, 11, 3, 10, 7, 10, 5, 4, 5, 10, 8, 6, 7, 9, 9, 10, 8, 5, 9, 4, 5, 9, 10, 5, 4, 8, 7, 8, 6, 7, 6, 3, 5, 5, 10, 8, 7, 7, 9, 8, 6, 6, 5, 7, 11, 2, 4, 7, 10, 9, 7, 9, 12, 8, 6, 8, 5, 7, 9, 3, 10, 8, 7, 5, 9, 12, 9, 12, 4, 12, 8, 6, 9, 6, 4, 7, 7, 2, 3, 7, 7, 11, 7, 8, 3, 3, 5, 7, 8, 7, 5, 10, 7, 4, 4, 6, 3, 4, 4, 7, 12, 3, 7, 4, 8, 9, 8, 11, 8, 9, 6, 7, 5, 6, 8, 8, 3, 9, 3, 10, 8, 4, 6, 7, 8, 7, 10, 7, 5, 9, 8, 6, 6, 9, 6, 2, 10, 10, 8, 5, 7, 4, 4, 4, 7, 9, 9, 7, 10, 3, 4, 3, 9, 2, 8, 6, 7, 6, 9, 8, 7, 10, 6, 5, 5, 4, 8, 11, 11, 5, 8, 7, 6]\n"
     ]
    }
   ],
   "source": [
    "print(suceso)"
   ]
  }
 ],
 "metadata": {
  "kernelspec": {
   "display_name": "Python 3",
   "language": "python",
   "name": "python3"
  },
  "language_info": {
   "codemirror_mode": {
    "name": "ipython",
    "version": 3
   },
   "file_extension": ".py",
   "mimetype": "text/x-python",
   "name": "python",
   "nbconvert_exporter": "python",
   "pygments_lexer": "ipython3",
   "version": "3.8.5"
  },
  "toc": {
   "base_numbering": 1,
   "nav_menu": {},
   "number_sections": false,
   "sideBar": true,
   "skip_h1_title": false,
   "title_cell": "Table of Contents",
   "title_sidebar": "Contents",
   "toc_cell": false,
   "toc_position": {
    "height": "calc(100% - 180px)",
    "left": "10px",
    "top": "150px",
    "width": "296.475px"
   },
   "toc_section_display": true,
   "toc_window_display": false
  },
  "varInspector": {
   "cols": {
    "lenName": 16,
    "lenType": 16,
    "lenVar": 40
   },
   "kernels_config": {
    "python": {
     "delete_cmd_postfix": "",
     "delete_cmd_prefix": "del ",
     "library": "var_list.py",
     "varRefreshCmd": "print(var_dic_list())"
    },
    "r": {
     "delete_cmd_postfix": ") ",
     "delete_cmd_prefix": "rm(",
     "library": "var_list.r",
     "varRefreshCmd": "cat(var_dic_list()) "
    }
   },
   "types_to_exclude": [
    "module",
    "function",
    "builtin_function_or_method",
    "instance",
    "_Feature"
   ],
   "window_display": false
  }
 },
 "nbformat": 4,
 "nbformat_minor": 2
}
